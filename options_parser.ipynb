{
 "cells": [
  {
   "cell_type": "markdown",
   "metadata": {},
   "source": [
    "## Pulling Option Chains from Finance Yahoo"
   ]
  },
  {
   "cell_type": "markdown",
   "metadata": {},
   "source": [
    "## Installation Steps\n",
    "\n",
    "This parser depends on the following libraries being installed:\n",
    "- yahoo_fin\n",
    "- mysql\n",
    "\n",
    "In order to install yahoo_fin, please visit: \n",
    "http://theautomatic.net/yahoo_fin-documentation/\n",
    "\n",
    "In order to install mysql, please visit:\n",
    "https://dev.mysql.com/downloads/mysql/\n",
    "An Oracle user account and password is required to obtain this download. Registration and use of MySQL Community Server are free.\n",
    "\n",
    "Additionally, install pymysql, from a terminal bash shell:\n",
    "- pip install pymysql\n",
    "\n",
    "Once MySQL is installed:\n",
    "- In a terminal window, create an alias for MySQL\n",
    "    - alias mysql=/usr/local/mysql/bin/mysql\n",
    "    - set +H\n",
    "- In a terminal window, log in to MySQL as root\n",
    "    - mysql --user=root --password=<root_password>\n",
    "- Once logged into MySQL: \n",
    "    - Create a database named FinanceYahoo\n",
    "        CREATE DATABASE FinanceYahoo;\n",
    "    - Create a user named FinanceYahoo\n",
    "        CREATE USER 'FinanceYahoo'@'localhost' IDENTIFIED BY 'F!n@nc3Y@h00';\n",
    "    - Grant all permission to user FinanceYahoo on database FinanceYahoo\n",
    "        GRANT ALL PRIVILEGES ON FinanceYahoo.* TO 'FinanceYahoo'@'localhost';"
   ]
  },
  {
   "cell_type": "markdown",
   "metadata": {},
   "source": [
    "### Import Libraries from yahoo_fin.stock_info and yahoo_fin.options\n",
    "Once yahoo_fin is installed, import required libraries as indicated below:"
   ]
  },
  {
   "cell_type": "code",
   "execution_count": null,
   "metadata": {
    "scrolled": true
   },
   "outputs": [],
   "source": [
    "from yahoo_fin.stock_info import tickers_dow\n",
    "from yahoo_fin.stock_info import tickers_nasdaq\n",
    "from yahoo_fin.stock_info import tickers_other\n",
    "from yahoo_fin.stock_info import tickers_sp500\n",
    "from yahoo_fin.options import get_expiration_dates\n",
    "from yahoo_fin.options import get_options_chain"
   ]
  },
  {
   "cell_type": "markdown",
   "metadata": {},
   "source": [
    "### Import Libraries to interact with MySQL"
   ]
  },
  {
   "cell_type": "code",
   "execution_count": null,
   "metadata": {},
   "outputs": [],
   "source": [
    "from sqlalchemy import create_engine\n",
    "import pymysql\n",
    "\n",
    "#This is needed in order to pass special characters in the MySQL connection string\n",
    "from urllib import parse as urlparse"
   ]
  },
  {
   "cell_type": "markdown",
   "metadata": {},
   "source": [
    "### Import DateTime"
   ]
  },
  {
   "cell_type": "code",
   "execution_count": null,
   "metadata": {},
   "outputs": [],
   "source": [
    "# This is needed to convert string date time stamps into datetime objects\n",
    "from dateutil.parser import parse\n",
    "# This is needed to invoke the pandas to_datetime function\n",
    "import pandas as pd"
   ]
  },
  {
   "cell_type": "markdown",
   "metadata": {},
   "source": [
    "## Get the list of unique tickers\n",
    "- Pull all available tickers\n",
    "- Eliminate duplicates if they exist\n",
    "- Eliminate tickers that contain special characters"
   ]
  },
  {
   "cell_type": "code",
   "execution_count": null,
   "metadata": {},
   "outputs": [],
   "source": [
    "tickers = []\n",
    "tickers = tickers_dow()\n",
    "tickers.extend(tickers_nasdaq())\n",
    "tickers.extend(tickers_other())\n",
    "tickers.extend(tickers_sp500())\n",
    "tickers = list(dict.fromkeys(tickers)) #This instruction eliminates duplicate tickers\n",
    "tickers = [item for item in tickers if \"-\" not in item and \"$\" not in item and \".\" not in item]"
   ]
  },
  {
   "cell_type": "markdown",
   "metadata": {},
   "source": [
    "## Connect to MySQL"
   ]
  },
  {
   "cell_type": "code",
   "execution_count": null,
   "metadata": {},
   "outputs": [],
   "source": [
    "#urllib.parse.quote_plus is used to url encode the special characters in the password\n",
    "sql_connection_string = 'mysql+pymysql://FinanceYahoo:%s@localhost/FinanceYahoo' % urlparse.quote_plus('F!n@nc3Y@h00')\n",
    "sql_engine = create_engine(sql_connection_string)\n",
    "sql_connection = sql_engine.connect()"
   ]
  },
  {
   "cell_type": "markdown",
   "metadata": {},
   "source": [
    "## Parse Finance Yahoo Data\n"
   ]
  },
  {
   "cell_type": "markdown",
   "metadata": {},
   "source": [
    "- Create a function to parse the dataframes resulting from calling get_options_chain"
   ]
  },
  {
   "cell_type": "code",
   "execution_count": null,
   "metadata": {},
   "outputs": [],
   "source": [
    "def parse_dataframe(df,expiration):\n",
    "    df.loc[df['Last Price'] == '-','Last Price'] = None\n",
    "    df.loc[df['Bid'] == '-','Bid'] = None\n",
    "    df.loc[df['Ask'] == '-','Ask'] = None\n",
    "    df.loc[df['Change'] == '-','Change'] = None\n",
    "    df['% Change'] = df['% Change'].map(lambda x: x.lstrip('+-').rstrip('%').replace(',',''))\n",
    "    df.loc[df['% Change'] == '','% Change'] = '0'\n",
    "    df.loc[df['Open Interest'] == '-','Open Interest'] = '0'\n",
    "    df.loc[df['Volume'] == '-','Volume'] = '0'\n",
    "    df['Implied Volatility'] = df['Implied Volatility'].map(lambda x: x.rstrip('%').replace(',',''))\n",
    "    df['Last Trade Date'] = df['Last Trade Date'].map(lambda x: x.rstrip(' EDT'))\n",
    "    df['Last Trade Date'] = pd.to_datetime(df['Last Trade Date'],format=\"%Y-%m-%d %I:%M%p\")\n",
    "    df['Ticker'] = df['Contract Name'].str.extract(r'([A-Z]*)')\n",
    "    df['Expiration'] = parse(expiration)\n",
    "    df['OptionType'] = df['Contract Name'].str.extract(r'[A-Z]*[0-9]{6}([A-Z])')\n",
    "    return df.astype({\"% Change\" : float, \"Volume\" : int, \"Implied Volatility\" : float}) "
   ]
  },
  {
   "cell_type": "markdown",
   "metadata": {},
   "source": [
    "### The next code cell is a test showing the result of calling parse_dataframe with the calls dataframe of a specific ticker and expiration date\n",
    "- This cell does not need to be run except for testing purposes"
   ]
  },
  {
   "cell_type": "code",
   "execution_count": null,
   "metadata": {},
   "outputs": [],
   "source": [
    "#Test\n",
    "ticker = 'AAPL'\n",
    "date = get_expiration_dates(ticker)[1]\n",
    "options_chain = get_options_chain(ticker,date)\n",
    "dataframe = parse_dataframe(options_chain['calls'],date)\n",
    "dataframe\n"
   ]
  },
  {
   "cell_type": "markdown",
   "metadata": {},
   "source": [
    "### Traverse the list of unique tickers\n",
    "    - For optionable tickers, get all available expiration dates\n",
    "    - Get the option chains (calls and puts) for each ticker / expiration date pair\n",
    "    - Append each option to the database"
   ]
  },
  {
   "cell_type": "code",
   "execution_count": null,
   "metadata": {},
   "outputs": [],
   "source": [
    "ticker_count = 1\n",
    "\n",
    "for ticker in tickers:\n",
    "    print(f'{ticker}: {ticker_count} of {len(tickers)}')    \n",
    "    ticker_count += 1\n",
    "    \n",
    "    for date in get_expiration_dates(ticker):\n",
    "        try:\n",
    "            options_chain = get_options_chain(ticker,date)\n",
    "        except:\n",
    "            print(f'No option chains for {ticker},{date}')\n",
    "        \n",
    "        try:\n",
    "            df = parse_dataframe(options_chain['calls'],date)\n",
    "            df.to_sql('Option',sql_connection,if_exists='append')\n",
    "        except:\n",
    "            print(f'Skipped {ticker},{date}')\n",
    "        \n",
    "        try:\n",
    "            df = parse_dataframe(options_chain['puts'],date)\n",
    "            df.to_sql('Option',sql_connection,if_exists='append')\n",
    "        except:\n",
    "            print(f'Skipped {ticker},{date}')\n",
    "print('Done')"
   ]
  },
  {
   "cell_type": "code",
   "execution_count": null,
   "metadata": {},
   "outputs": [],
   "source": []
  }
 ],
 "metadata": {
  "kernelspec": {
   "display_name": "Python 3",
   "language": "python",
   "name": "python3"
  },
  "language_info": {
   "codemirror_mode": {
    "name": "ipython",
    "version": 3
   },
   "file_extension": ".py",
   "mimetype": "text/x-python",
   "name": "python",
   "nbconvert_exporter": "python",
   "pygments_lexer": "ipython3",
   "version": "3.7.3"
  }
 },
 "nbformat": 4,
 "nbformat_minor": 2
}
